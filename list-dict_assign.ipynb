{
 "cells": [
  {
   "cell_type": "code",
   "execution_count": 1,
   "metadata": {},
   "outputs": [
    {
     "name": "stdout",
     "output_type": "stream",
     "text": [
      "101 Mark\n",
      "102 Jane\n",
      "103 Kumar\n"
     ]
    }
   ],
   "source": [
    "class Customer:\n",
    "    def __init__(self, cust_id, cust_name, location):\n",
    "        self.cust_id = cust_id\n",
    "        self.cust_name = cust_name\n",
    "        self.location = location\n",
    "\n",
    "c1=Customer(101, 'Mark', 'US')\n",
    "c2=Customer(102, 'Jane', 'Japan')\n",
    "c3=Customer(103, 'Kumar', 'India')\n",
    "\n",
    "list_of_customers = [Customer(101, 'Mark', 'US'),\n",
    "Customer(102, 'Jane', 'Japan'),\n",
    "Customer(103, 'Kumar', 'India')]\n",
    "\n",
    "dict_of_customer={\"US\":c1,\"Japan\":c2,\"India\":c3}\n",
    "for key,value in dict_of_customer.items():\n",
    "    print(value.cust_id,  value.cust_name)\n",
    "                           "
   ]
  },
  {
   "cell_type": "code",
   "execution_count": null,
   "metadata": {},
   "outputs": [],
   "source": []
  }
 ],
 "metadata": {
  "kernelspec": {
   "display_name": "Python 3",
   "language": "python",
   "name": "python3"
  },
  "language_info": {
   "codemirror_mode": {
    "name": "ipython",
    "version": 3
   },
   "file_extension": ".py",
   "mimetype": "text/x-python",
   "name": "python",
   "nbconvert_exporter": "python",
   "pygments_lexer": "ipython3",
   "version": "3.7.3"
  }
 },
 "nbformat": 4,
 "nbformat_minor": 2
}
