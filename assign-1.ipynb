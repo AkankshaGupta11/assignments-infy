{
 "cells": [
  {
   "cell_type": "code",
   "execution_count": 2,
   "metadata": {},
   "outputs": [
    {
     "name": "stdout",
     "output_type": "stream",
     "text": [
      "marks are valid:\n",
      "marks are valid:\n",
      "student is eligible\n",
      "eligible student\n"
     ]
    },
    {
     "data": {
      "text/plain": [
       "True"
      ]
     },
     "execution_count": 2,
     "metadata": {},
     "output_type": "execute_result"
    }
   ],
   "source": [
    "#lex_auth_012736358230835200606\n",
    "#Start writing your code here\n",
    "class Student():\n",
    "    def __init__(self):\n",
    "        self.__student_id=None\n",
    "        self.__marks=None\n",
    "        self.__age=None\n",
    "        \n",
    "    def set_student_id(self,student_id):\n",
    "        self.__student_id=student_id\n",
    "    def get_student_id(self):\n",
    "        return self.__student_id\n",
    "        \n",
    "    def set_marks(self,marks):\n",
    "        self.__marks=marks\n",
    "    def get_marks(self):\n",
    "        return self.__marks\n",
    "        \n",
    "    def set_age(self,age):\n",
    "        self.__age=age\n",
    "    def get_age(self):\n",
    "        return self.__age\n",
    "        \n",
    "    def validate_marks(self):\n",
    "        if self.__marks>=0 and self.__marks<=100:\n",
    "          print(\"marks are valid:\")\n",
    "          return True\n",
    "        else:\n",
    "          print(\"marks are invalid\")\n",
    "          return False\n",
    "          \n",
    "    def validate_age(self):\n",
    "        if self.__age>20:\n",
    "          print(\"student is eligible\")\n",
    "          return True\n",
    "        else:\n",
    "          print(\"not eligible\")\n",
    "          return False\n",
    "        \n",
    "        \n",
    "    def check_qualification(self):\n",
    "        if self.validate_marks():\n",
    "            if self.validate_age():\n",
    "                if self.__marks >=65:\n",
    "                    print(\"eligible student\")\n",
    "                    return True\n",
    "                else:\n",
    "                    print(\"not eligible\")\n",
    "                    return False\n",
    "            else:\n",
    "                print(\"age isnot valid\")\n",
    "                return False\n",
    "        else:\n",
    "            print(\"marks are valid\")\n",
    "            return False\n",
    "            \n",
    "s1=Student()\n",
    "s1.set_student_id(21)\n",
    "s1.set_age(21)\n",
    "s1.set_marks(100)\n",
    "\n",
    "s1.validate_marks()\n",
    "# s1.validate_age()  \n",
    "s1.check_qualification()\n",
    "        \n",
    "        "
   ]
  },
  {
   "cell_type": "code",
   "execution_count": null,
   "metadata": {},
   "outputs": [],
   "source": []
  }
 ],
 "metadata": {
  "kernelspec": {
   "display_name": "Python 3",
   "language": "python",
   "name": "python3"
  },
  "language_info": {
   "codemirror_mode": {
    "name": "ipython",
    "version": 3
   },
   "file_extension": ".py",
   "mimetype": "text/x-python",
   "name": "python",
   "nbconvert_exporter": "python",
   "pygments_lexer": "ipython3",
   "version": "3.7.3"
  }
 },
 "nbformat": 4,
 "nbformat_minor": 2
}
